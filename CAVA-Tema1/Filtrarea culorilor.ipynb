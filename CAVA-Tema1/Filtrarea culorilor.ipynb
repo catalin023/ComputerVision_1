{
 "cells": [
  {
   "cell_type": "code",
   "id": "3b973af6",
   "metadata": {
    "ExecuteTime": {
     "end_time": "2024-11-29T13:55:15.764583Z",
     "start_time": "2024-11-29T13:55:15.439727Z"
    }
   },
   "source": [
    "import numpy as np\n",
    "import cv2 as cv\n",
    "import os\n",
    "import glob\n",
    "import matplotlib.pyplot as plt\n",
    "from numpy.random import uniform\n",
    "import pdb"
   ],
   "outputs": [],
   "execution_count": 1
  },
  {
   "cell_type": "code",
   "id": "e2588322",
   "metadata": {
    "ExecuteTime": {
     "end_time": "2024-11-29T13:55:15.776828Z",
     "start_time": "2024-11-29T13:55:15.771782Z"
    }
   },
   "source": [
    "def find_color_values_using_trackbar(frame):\n",
    "\n",
    "    frame_hsv = cv.cvtColor(frame, cv.COLOR_BGR2HSV)\n",
    " \n",
    "    def nothing(x):\n",
    "        pass\n",
    "\n",
    "    cv.namedWindow(\"Trackbar\") \n",
    "    cv.resizeWindow(\"Trackbar\", 100, 100) \n",
    "    cv.createTrackbar(\"LH\", \"Trackbar\", 0, 255, nothing)\n",
    "    cv.createTrackbar(\"LS\", \"Trackbar\", 0, 255, nothing)\n",
    "    cv.createTrackbar(\"LV\", \"Trackbar\", 0, 255, nothing)\n",
    "    cv.createTrackbar(\"UH\", \"Trackbar\", 255, 255, nothing)\n",
    "    cv.createTrackbar(\"US\", \"Trackbar\", 255, 255, nothing)\n",
    "    cv.createTrackbar(\"UV\", \"Trackbar\", 255, 255, nothing)\n",
    "    \n",
    "    \n",
    "    while True:\n",
    "\n",
    "        l_h = cv.getTrackbarPos(\"LH\", \"Trackbar\")\n",
    "        l_s = cv.getTrackbarPos(\"LS\", \"Trackbar\")\n",
    "        l_v = cv.getTrackbarPos(\"LV\", \"Trackbar\")\n",
    "        u_h = cv.getTrackbarPos(\"UH\", \"Trackbar\")\n",
    "        u_s = cv.getTrackbarPos(\"US\", \"Trackbar\")\n",
    "        u_v = cv.getTrackbarPos(\"UV\", \"Trackbar\")\n",
    "\n",
    "\n",
    "        l = np.array([l_h, l_s, l_v])\n",
    "        u = np.array([u_h, u_s, u_v])\n",
    "        mask_table_hsv = cv.inRange(frame_hsv, l, u)        \n",
    "\n",
    "        res = cv.bitwise_and(frame, frame, mask=mask_table_hsv)    \n",
    "        small_frame = cv.resize(frame, (800, 800))  # Resize original frame\n",
    "        small_mask = cv.resize(mask_table_hsv, (800, 800))  # Resize mask\n",
    "        small_res = cv.resize(res, (800, 800))  # Resize result\n",
    "\n",
    "        cv.imshow(\"Frame\", small_frame)\n",
    "        cv.imshow(\"Mask\", small_mask)\n",
    "        cv.imshow(\"Res\", small_res)\n",
    "        if cv.waitKey(25) & 0xFF == ord('q'):\n",
    "                break\n",
    "    cv.destroyAllWindows()"
   ],
   "outputs": [],
   "execution_count": 2
  },
  {
   "cell_type": "code",
   "id": "ab73d97b",
   "metadata": {
    "jupyter": {
     "is_executing": true
    },
    "ExecuteTime": {
     "start_time": "2024-11-29T13:55:16.088830Z"
    }
   },
   "source": [
    "img = cv.imread(\"imagini_auxiliare/03.jpg\")\n",
    "find_color_values_using_trackbar(img)"
   ],
   "outputs": [],
   "execution_count": null
  },
  {
   "cell_type": "code",
   "id": "a91bbc1d",
   "metadata": {
    "ExecuteTime": {
     "end_time": "2024-11-23T13:30:25.071737Z",
     "start_time": "2024-11-23T13:30:24.937349Z"
    }
   },
   "source": [
    "low_yellow = (15, 105, 105)\n",
    "high_yellow = (90, 255, 255)\n",
    "img_hsv = cv.cvtColor(img, cv.COLOR_BGR2HSV)\n",
    "mask_yellow_hsv = cv.inRange(img_hsv, low_yellow, high_yellow)\n",
    "cv.imshow('img_initial', img)\n",
    "cv.imshow('mask_yellow_hsv', mask_yellow_hsv)\n",
    "cv.waitKey(0)\n",
    "cv.destroyAllWindows()"
   ],
   "outputs": [
    {
     "ename": "NameError",
     "evalue": "name 'img' is not defined",
     "output_type": "error",
     "traceback": [
      "\u001B[0;31m---------------------------------------------------------------------------\u001B[0m",
      "\u001B[0;31mNameError\u001B[0m                                 Traceback (most recent call last)",
      "Cell \u001B[0;32mIn[3], line 3\u001B[0m\n\u001B[1;32m      1\u001B[0m low_yellow \u001B[38;5;241m=\u001B[39m (\u001B[38;5;241m15\u001B[39m, \u001B[38;5;241m105\u001B[39m, \u001B[38;5;241m105\u001B[39m)\n\u001B[1;32m      2\u001B[0m high_yellow \u001B[38;5;241m=\u001B[39m (\u001B[38;5;241m90\u001B[39m, \u001B[38;5;241m255\u001B[39m, \u001B[38;5;241m255\u001B[39m)\n\u001B[0;32m----> 3\u001B[0m img_hsv \u001B[38;5;241m=\u001B[39m cv\u001B[38;5;241m.\u001B[39mcvtColor(\u001B[43mimg\u001B[49m, cv\u001B[38;5;241m.\u001B[39mCOLOR_BGR2HSV)\n\u001B[1;32m      4\u001B[0m mask_yellow_hsv \u001B[38;5;241m=\u001B[39m cv\u001B[38;5;241m.\u001B[39minRange(img_hsv, low_yellow, high_yellow)\n\u001B[1;32m      5\u001B[0m cv\u001B[38;5;241m.\u001B[39mimshow(\u001B[38;5;124m'\u001B[39m\u001B[38;5;124mimg_initial\u001B[39m\u001B[38;5;124m'\u001B[39m, img)\n",
      "\u001B[0;31mNameError\u001B[0m: name 'img' is not defined"
     ]
    }
   ],
   "execution_count": 3
  },
  {
   "cell_type": "code",
   "execution_count": null,
   "id": "31cd69be",
   "metadata": {},
   "outputs": [],
   "source": []
  }
 ],
 "metadata": {
  "kernelspec": {
   "display_name": "Python 3 (ipykernel)",
   "language": "python",
   "name": "python3"
  },
  "language_info": {
   "codemirror_mode": {
    "name": "ipython",
    "version": 3
   },
   "file_extension": ".py",
   "mimetype": "text/x-python",
   "name": "python",
   "nbconvert_exporter": "python",
   "pygments_lexer": "ipython3",
   "version": "3.9.16"
  }
 },
 "nbformat": 4,
 "nbformat_minor": 5
}
